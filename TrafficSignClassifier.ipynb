{
 "cells": [
  {
   "attachments": {},
   "cell_type": "markdown",
   "metadata": {},
   "source": [
    "# Traffic Sign Classifier using JAX and FLAX\n",
    "Hi,\n",
    "In this project we will be creating a classification model for traffic signs using JAX and FLAX.\n",
    "\n",
    "JAX is a framework which is used for high-performance computing and machine learning research developed at Google Research. It has a NumPy-consitent API and focuses on differentiating, vectorizing, parallelizing, and compiling GPU/TPU Just-In-Time. JAX is hardware agnostic and meant for speed.\n",
    "\n",
    "FLAX is a JAX-based neural network library that was initially developed by Google Research's Brain Team. It allows us to more easily design and train neural networks. FLAX does not have any dataloaders so for that we will be using PyTorch."
   ]
  },
  {
   "cell_type": "code",
   "execution_count": 1,
   "metadata": {},
   "outputs": [
    {
     "name": "stderr",
     "output_type": "stream",
     "text": [
      "/root/miniconda3/envs/jax/lib/python3.9/site-packages/tqdm/auto.py:21: TqdmWarning: IProgress not found. Please update jupyter and ipywidgets. See https://ipywidgets.readthedocs.io/en/stable/user_install.html\n",
      "  from .autonotebook import tqdm as notebook_tqdm\n",
      "/root/miniconda3/envs/jax/lib/python3.9/site-packages/torchvision/io/image.py:13: UserWarning: Failed to load image Python extension: /root/miniconda3/envs/jax/lib/python3.9/site-packages/torchvision/image.so: undefined symbol: _ZN2at4_ops19empty_memory_format4callEN3c108ArrayRefIlEENS2_8optionalINS2_10ScalarTypeEEENS5_INS2_6LayoutEEENS5_INS2_6DeviceEEENS5_IbEENS5_INS2_12MemoryFormatEEE\n",
      "  warn(f\"Failed to load image Python extension: {e}\")\n"
     ]
    }
   ],
   "source": [
    "import jax\n",
    "import os\n",
    "import pandas as pd\n",
    "import re\n",
    "import cv2\n",
    "from PIL import Image\n",
    "from torch.utils.data import Dataset, DataLoader\n",
    "import numpy as np\n",
    "from torchvision import transforms\n",
    "from typing import Any\n",
    "import jax.nn\n",
    "import jax.numpy as jnp\n",
    "import jax.random\n",
    "import train\n",
    "import math"
   ]
  },
  {
   "cell_type": "code",
   "execution_count": 2,
   "metadata": {},
   "outputs": [
    {
     "data": {
      "text/plain": [
       "[StreamExecutorGpuDevice(id=0, process_index=0, slice_index=0)]"
      ]
     },
     "execution_count": 2,
     "metadata": {},
     "output_type": "execute_result"
    }
   ],
   "source": [
    "# Check that JAX has found the GPU\n",
    "# Should display something like [StreamExecutorGpuDevice(id=0, process_index=0, slice_index=0)]\n",
    "jax.local_devices()"
   ]
  },
  {
   "cell_type": "code",
   "execution_count": 3,
   "metadata": {},
   "outputs": [],
   "source": [
    "# Create dataframe containing the image paths and classes\n",
    "res = []\n",
    "for root, dirs, files in os.walk('./traffic_Data/DATA/', topdown=True):\n",
    "    if (len(files) > 0):\n",
    "        for name in files:\n",
    "            res.append(root + '/' + name)\n",
    "\n",
    "sec = []\n",
    "for name in res:\n",
    "    m = re.search(r\"(\\d+)\", name)\n",
    "    sec.append(int(m.group()))\n",
    "\n",
    "data_tuples = list(zip(sec, res))\n",
    "df = pd.DataFrame(data_tuples, columns = ['Class', \"Path\"])"
   ]
  },
  {
   "cell_type": "code",
   "execution_count": 4,
   "metadata": {},
   "outputs": [],
   "source": [
    "# Define a PyTorch dataset for our data\n",
    "class TrafficDataset(Dataset):\n",
    "    def __init__(self, df, transform=None):\n",
    "        self.df = df\n",
    "        self.transform = transform\n",
    "    def __len__(self):\n",
    "        return len(self.df)\n",
    "    \n",
    "    def __getitem__(self, idx):\n",
    "        row = self.df.loc[idx]\n",
    "        img_label = row['Class']\n",
    "        img = Image.open(row['Path'])\n",
    "        if self.transform:\n",
    "            img = self.transform(img)\n",
    "        return img, img_label"
   ]
  },
  {
   "cell_type": "code",
   "execution_count": 5,
   "metadata": {},
   "outputs": [
    {
     "name": "stdout",
     "output_type": "stream",
     "text": [
      "(28, 26)\n"
     ]
    }
   ],
   "source": [
    "# CNN-models need all images of the same dimensions. \n",
    "# This script will look at all the images and find the smallest width and height.\n",
    "minheight = 160\n",
    "minwidth = 146\n",
    "for root, dirs, files in os.walk('./traffic_Data/DATA/', topdown=True):\n",
    "    if (len(files) > 0):\n",
    "        for name in files:\n",
    "            img = cv2.imread(root + '/' + name)\n",
    "            if (img.shape[0] < minheight) :\n",
    "                minheight = img.shape[0]\n",
    "            if (img.shape[1] < minwidth):\n",
    "                minwidth = img.shape[1]\n",
    "print(f\"({minheight}, {minwidth})\")"
   ]
  },
  {
   "cell_type": "code",
   "execution_count": 6,
   "metadata": {},
   "outputs": [
    {
     "data": {
      "text/plain": [
       "(3330, 838)"
      ]
     },
     "execution_count": 6,
     "metadata": {},
     "output_type": "execute_result"
    }
   ],
   "source": [
    "# Defining the transformations for the datasets.\n",
    "# RandomAffine and RandomHorizontalFlip are data augmentation techniques to provide us with more data.\n",
    "# We resize the data to the smallest height and width that we found in the previous cell.\n",
    "# We do a 80/20 split of the data so that we have a training dataset and a validation dataset.\n",
    "IMAGE_HEIGHT = 28\n",
    "IMAGE_WIDTH = 26\n",
    "\n",
    "training_transform = transforms.Compose([\n",
    "    transforms.RandomAffine(degrees = (-30, 30),\n",
    "                            translate = (0.0, 0.2)),\n",
    "    transforms.RandomHorizontalFlip(),\n",
    "    transforms.Resize((IMAGE_HEIGHT,\n",
    "                       IMAGE_WIDTH)),\n",
    "    np.array\n",
    "])\n",
    "\n",
    "testing_transform = transforms.Compose([\n",
    "    transforms.Resize((IMAGE_HEIGHT,\n",
    "                       IMAGE_WIDTH)),\n",
    "    np.array])\n",
    "\n",
    "np.random.seed(37)\n",
    "msk = np.random.rand(len(df)) < 0.8\n",
    "\n",
    "train_df = df[msk].reset_index()\n",
    "val_df = df[~msk].reset_index()\n",
    "\n",
    "train_ds = TrafficDataset(train_df, transform = training_transform)\n",
    "val_ds = TrafficDataset(val_df, transform = testing_transform)\n",
    "len(train_ds), len(val_ds)"
   ]
  },
  {
   "cell_type": "code",
   "execution_count": 7,
   "metadata": {},
   "outputs": [],
   "source": [
    "# Now we create our dataloaders.\n",
    "# JAX does not work with the PyTorch tensors so we create the custome_collate_fn to convert data to NumPy format.\n",
    "BATCH_SIZE = 128\n",
    "def custom_collate_fn(batch):\n",
    "    transponded_data = list(zip(*batch))\n",
    "\n",
    "    labels = np.array(transponded_data[1])\n",
    "    imgs = np.stack(transponded_data[0])\n",
    "    \n",
    "    return imgs, labels\n",
    "\n",
    "train_dataloader = DataLoader(train_ds,\n",
    "                              batch_size = BATCH_SIZE,\n",
    "                              shuffle = True, drop_last = True,\n",
    "                              num_workers = 0,\n",
    "                              collate_fn=custom_collate_fn)\n",
    "test_dataloader = DataLoader(val_ds,\n",
    "                             batch_size = BATCH_SIZE,\n",
    "                             shuffle = True, drop_last = True,\n",
    "                             num_workers = 0,\n",
    "                             collate_fn=custom_collate_fn)\n"
   ]
  },
  {
   "cell_type": "code",
   "execution_count": 8,
   "metadata": {},
   "outputs": [
    {
     "name": "stdout",
     "output_type": "stream",
     "text": [
      "(128, 28, 26, 3)\n",
      "(128,)\n"
     ]
    }
   ],
   "source": [
    "# Lets load one batch with the training dataloader to see that everything works.\n",
    "(image_batch, label_batch) = next(iter(train_dataloader))\n",
    "print(image_batch.shape)\n",
    "print(label_batch.shape)"
   ]
  },
  {
   "cell_type": "code",
   "execution_count": 9,
   "metadata": {},
   "outputs": [
    {
     "name": "stdout",
     "output_type": "stream",
     "text": [
      "(128, 28, 26, 3)\n",
      "(128,)\n"
     ]
    }
   ],
   "source": [
    "# Lets load one batch with the test dataloader to see that everything works.\n",
    "(val_image_batch, val_label_batch) = next(iter(test_dataloader))\n",
    "print(val_image_batch.shape)\n",
    "print(val_label_batch.shape)"
   ]
  },
  {
   "cell_type": "code",
   "execution_count": 10,
   "metadata": {},
   "outputs": [
    {
     "name": "stderr",
     "output_type": "stream",
     "text": [
      "100%|██████████| 26/26 [00:11<00:00,  2.23it/s]\n"
     ]
    },
    {
     "name": "stdout",
     "output_type": "stream",
     "text": [
      "Train epoch 1, accuracy 12.139\n",
      "Test epoch 1, accuracy: 2.214\n"
     ]
    },
    {
     "name": "stderr",
     "output_type": "stream",
     "text": [
      "100%|██████████| 26/26 [00:04<00:00,  5.57it/s]\n"
     ]
    },
    {
     "name": "stdout",
     "output_type": "stream",
     "text": [
      "Train epoch 2, accuracy 20.583\n",
      "Test epoch 2, accuracy: 8.464\n"
     ]
    },
    {
     "name": "stderr",
     "output_type": "stream",
     "text": [
      "100%|██████████| 26/26 [00:04<00:00,  5.58it/s]\n"
     ]
    },
    {
     "name": "stdout",
     "output_type": "stream",
     "text": [
      "Train epoch 3, accuracy 34.075\n",
      "Test epoch 3, accuracy: 13.411\n"
     ]
    },
    {
     "name": "stderr",
     "output_type": "stream",
     "text": [
      "100%|██████████| 26/26 [00:05<00:00,  5.16it/s]\n"
     ]
    },
    {
     "name": "stdout",
     "output_type": "stream",
     "text": [
      "Train epoch 4, accuracy 41.887\n",
      "Test epoch 4, accuracy: 27.995\n"
     ]
    },
    {
     "name": "stderr",
     "output_type": "stream",
     "text": [
      "100%|██████████| 26/26 [00:05<00:00,  4.77it/s]\n"
     ]
    },
    {
     "name": "stdout",
     "output_type": "stream",
     "text": [
      "Train epoch 5, accuracy 45.042\n",
      "Test epoch 5, accuracy: 18.229\n"
     ]
    },
    {
     "name": "stderr",
     "output_type": "stream",
     "text": [
      "100%|██████████| 26/26 [00:04<00:00,  5.52it/s]\n"
     ]
    },
    {
     "name": "stdout",
     "output_type": "stream",
     "text": [
      "Train epoch 6, accuracy 51.593\n",
      "Test epoch 6, accuracy: 48.958\n"
     ]
    },
    {
     "name": "stderr",
     "output_type": "stream",
     "text": [
      "100%|██████████| 26/26 [00:04<00:00,  5.45it/s]\n"
     ]
    },
    {
     "name": "stdout",
     "output_type": "stream",
     "text": [
      "Train epoch 7, accuracy 60.246\n",
      "Test epoch 7, accuracy: 32.161\n"
     ]
    },
    {
     "name": "stderr",
     "output_type": "stream",
     "text": [
      "100%|██████████| 26/26 [00:04<00:00,  5.23it/s]\n"
     ]
    },
    {
     "name": "stdout",
     "output_type": "stream",
     "text": [
      "Train epoch 8, accuracy 59.826\n",
      "Test epoch 8, accuracy: 58.333\n"
     ]
    },
    {
     "name": "stderr",
     "output_type": "stream",
     "text": [
      "100%|██████████| 26/26 [00:05<00:00,  5.18it/s]\n"
     ]
    },
    {
     "name": "stdout",
     "output_type": "stream",
     "text": [
      "Train epoch 9, accuracy 67.758\n",
      "Test epoch 9, accuracy: 70.833\n"
     ]
    },
    {
     "name": "stderr",
     "output_type": "stream",
     "text": [
      "100%|██████████| 26/26 [00:05<00:00,  4.80it/s]\n"
     ]
    },
    {
     "name": "stdout",
     "output_type": "stream",
     "text": [
      "Train epoch 10, accuracy 72.656\n",
      "Test epoch 10, accuracy: 69.661\n"
     ]
    },
    {
     "name": "stderr",
     "output_type": "stream",
     "text": [
      "100%|██████████| 26/26 [00:06<00:00,  3.94it/s]\n"
     ]
    },
    {
     "name": "stdout",
     "output_type": "stream",
     "text": [
      "Train epoch 11, accuracy 76.472\n",
      "Test epoch 11, accuracy: 77.214\n"
     ]
    },
    {
     "name": "stderr",
     "output_type": "stream",
     "text": [
      "100%|██████████| 26/26 [00:05<00:00,  4.71it/s]\n"
     ]
    },
    {
     "name": "stdout",
     "output_type": "stream",
     "text": [
      "Train epoch 12, accuracy 78.456\n",
      "Test epoch 12, accuracy: 67.708\n"
     ]
    },
    {
     "name": "stderr",
     "output_type": "stream",
     "text": [
      "100%|██████████| 26/26 [00:04<00:00,  5.60it/s]\n"
     ]
    },
    {
     "name": "stdout",
     "output_type": "stream",
     "text": [
      "Train epoch 13, accuracy 79.447\n",
      "Test epoch 13, accuracy: 81.38\n"
     ]
    },
    {
     "name": "stderr",
     "output_type": "stream",
     "text": [
      "100%|██████████| 26/26 [00:04<00:00,  5.58it/s]\n"
     ]
    },
    {
     "name": "stdout",
     "output_type": "stream",
     "text": [
      "Train epoch 14, accuracy 83.113\n",
      "Test epoch 14, accuracy: 77.214\n"
     ]
    },
    {
     "name": "stderr",
     "output_type": "stream",
     "text": [
      "100%|██████████| 26/26 [00:04<00:00,  5.56it/s]\n"
     ]
    },
    {
     "name": "stdout",
     "output_type": "stream",
     "text": [
      "Train epoch 15, accuracy 83.684\n",
      "Test epoch 15, accuracy: 78.255\n"
     ]
    },
    {
     "name": "stderr",
     "output_type": "stream",
     "text": [
      "100%|██████████| 26/26 [00:06<00:00,  4.17it/s]\n"
     ]
    },
    {
     "name": "stdout",
     "output_type": "stream",
     "text": [
      "Train epoch 16, accuracy 83.984\n",
      "Test epoch 16, accuracy: 83.464\n"
     ]
    },
    {
     "name": "stderr",
     "output_type": "stream",
     "text": [
      "100%|██████████| 26/26 [00:04<00:00,  5.54it/s]\n"
     ]
    },
    {
     "name": "stdout",
     "output_type": "stream",
     "text": [
      "Train epoch 17, accuracy 87.62\n",
      "Test epoch 17, accuracy: 88.932\n"
     ]
    },
    {
     "name": "stderr",
     "output_type": "stream",
     "text": [
      "100%|██████████| 26/26 [00:05<00:00,  5.06it/s]\n"
     ]
    },
    {
     "name": "stdout",
     "output_type": "stream",
     "text": [
      "Train epoch 18, accuracy 89.243\n",
      "Test epoch 18, accuracy: 84.375\n"
     ]
    },
    {
     "name": "stderr",
     "output_type": "stream",
     "text": [
      "100%|██████████| 26/26 [00:05<00:00,  5.07it/s]\n"
     ]
    },
    {
     "name": "stdout",
     "output_type": "stream",
     "text": [
      "Train epoch 19, accuracy 89.483\n",
      "Test epoch 19, accuracy: 83.333\n"
     ]
    },
    {
     "name": "stderr",
     "output_type": "stream",
     "text": [
      "100%|██████████| 26/26 [00:04<00:00,  5.50it/s]\n"
     ]
    },
    {
     "name": "stdout",
     "output_type": "stream",
     "text": [
      "Train epoch 20, accuracy 91.587\n",
      "Test epoch 20, accuracy: 88.542\n"
     ]
    },
    {
     "name": "stderr",
     "output_type": "stream",
     "text": [
      "100%|██████████| 26/26 [00:04<00:00,  5.47it/s]\n"
     ]
    },
    {
     "name": "stdout",
     "output_type": "stream",
     "text": [
      "Train epoch 21, accuracy 91.316\n",
      "Test epoch 21, accuracy: 88.672\n"
     ]
    },
    {
     "name": "stderr",
     "output_type": "stream",
     "text": [
      "100%|██████████| 26/26 [00:05<00:00,  5.09it/s]\n"
     ]
    },
    {
     "name": "stdout",
     "output_type": "stream",
     "text": [
      "Train epoch 22, accuracy 92.458\n",
      "Test epoch 22, accuracy: 89.974\n"
     ]
    },
    {
     "name": "stderr",
     "output_type": "stream",
     "text": [
      "100%|██████████| 26/26 [00:04<00:00,  5.29it/s]\n"
     ]
    },
    {
     "name": "stdout",
     "output_type": "stream",
     "text": [
      "Train epoch 23, accuracy 90.445\n",
      "Test epoch 23, accuracy: 88.021\n"
     ]
    },
    {
     "name": "stderr",
     "output_type": "stream",
     "text": [
      "100%|██████████| 26/26 [00:04<00:00,  5.56it/s]\n"
     ]
    },
    {
     "name": "stdout",
     "output_type": "stream",
     "text": [
      "Train epoch 24, accuracy 93.78\n",
      "Test epoch 24, accuracy: 93.75\n"
     ]
    },
    {
     "name": "stderr",
     "output_type": "stream",
     "text": [
      "100%|██████████| 26/26 [00:04<00:00,  5.55it/s]\n"
     ]
    },
    {
     "name": "stdout",
     "output_type": "stream",
     "text": [
      "Train epoch 25, accuracy 94.772\n",
      "Test epoch 25, accuracy: 91.927\n"
     ]
    },
    {
     "name": "stderr",
     "output_type": "stream",
     "text": [
      "100%|██████████| 26/26 [00:05<00:00,  5.02it/s]\n"
     ]
    },
    {
     "name": "stdout",
     "output_type": "stream",
     "text": [
      "Train epoch 26, accuracy 93.63\n",
      "Test epoch 26, accuracy: 94.401\n"
     ]
    },
    {
     "name": "stderr",
     "output_type": "stream",
     "text": [
      "100%|██████████| 26/26 [00:05<00:00,  5.10it/s]\n"
     ]
    },
    {
     "name": "stdout",
     "output_type": "stream",
     "text": [
      "Train epoch 27, accuracy 95.974\n",
      "Test epoch 27, accuracy: 92.839\n"
     ]
    },
    {
     "name": "stderr",
     "output_type": "stream",
     "text": [
      "100%|██████████| 26/26 [00:05<00:00,  4.64it/s]\n"
     ]
    },
    {
     "name": "stdout",
     "output_type": "stream",
     "text": [
      "Train epoch 28, accuracy 94.952\n",
      "Test epoch 28, accuracy: 92.318\n"
     ]
    },
    {
     "name": "stderr",
     "output_type": "stream",
     "text": [
      "100%|██████████| 26/26 [00:05<00:00,  4.37it/s]\n"
     ]
    },
    {
     "name": "stdout",
     "output_type": "stream",
     "text": [
      "Train epoch 29, accuracy 94.261\n",
      "Test epoch 29, accuracy: 91.536\n"
     ]
    },
    {
     "name": "stderr",
     "output_type": "stream",
     "text": [
      "100%|██████████| 26/26 [00:04<00:00,  5.40it/s]\n"
     ]
    },
    {
     "name": "stdout",
     "output_type": "stream",
     "text": [
      "Train epoch 30, accuracy 95.793\n",
      "Test epoch 30, accuracy: 94.271\n"
     ]
    },
    {
     "name": "stderr",
     "output_type": "stream",
     "text": [
      "100%|██████████| 26/26 [00:04<00:00,  5.39it/s]\n"
     ]
    },
    {
     "name": "stdout",
     "output_type": "stream",
     "text": [
      "Train epoch 31, accuracy 95.763\n",
      "Test epoch 31, accuracy: 79.948\n"
     ]
    },
    {
     "name": "stderr",
     "output_type": "stream",
     "text": [
      "100%|██████████| 26/26 [00:04<00:00,  5.62it/s]\n"
     ]
    },
    {
     "name": "stdout",
     "output_type": "stream",
     "text": [
      "Train epoch 32, accuracy 94.381\n",
      "Test epoch 32, accuracy: 94.271\n"
     ]
    },
    {
     "name": "stderr",
     "output_type": "stream",
     "text": [
      "100%|██████████| 26/26 [00:05<00:00,  4.80it/s]\n"
     ]
    },
    {
     "name": "stdout",
     "output_type": "stream",
     "text": [
      "Train epoch 33, accuracy 96.274\n",
      "Test epoch 33, accuracy: 93.229\n"
     ]
    },
    {
     "name": "stderr",
     "output_type": "stream",
     "text": [
      "100%|██████████| 26/26 [00:07<00:00,  3.62it/s]\n"
     ]
    },
    {
     "name": "stdout",
     "output_type": "stream",
     "text": [
      "Train epoch 34, accuracy 97.206\n",
      "Test epoch 34, accuracy: 95.573\n"
     ]
    },
    {
     "name": "stderr",
     "output_type": "stream",
     "text": [
      "100%|██████████| 26/26 [00:05<00:00,  4.98it/s]\n"
     ]
    },
    {
     "name": "stdout",
     "output_type": "stream",
     "text": [
      "Train epoch 35, accuracy 97.025\n",
      "Test epoch 35, accuracy: 94.01\n"
     ]
    },
    {
     "name": "stderr",
     "output_type": "stream",
     "text": [
      "100%|██████████| 26/26 [00:05<00:00,  5.05it/s]\n"
     ]
    },
    {
     "name": "stdout",
     "output_type": "stream",
     "text": [
      "Train epoch 36, accuracy 97.175\n",
      "Test epoch 36, accuracy: 96.224\n"
     ]
    },
    {
     "name": "stderr",
     "output_type": "stream",
     "text": [
      "100%|██████████| 26/26 [00:06<00:00,  4.28it/s]\n"
     ]
    },
    {
     "name": "stdout",
     "output_type": "stream",
     "text": [
      "Train epoch 37, accuracy 97.356\n",
      "Test epoch 37, accuracy: 94.922\n"
     ]
    },
    {
     "name": "stderr",
     "output_type": "stream",
     "text": [
      "100%|██████████| 26/26 [00:06<00:00,  4.15it/s]\n"
     ]
    },
    {
     "name": "stdout",
     "output_type": "stream",
     "text": [
      "Train epoch 38, accuracy 97.536\n",
      "Test epoch 38, accuracy: 96.094\n"
     ]
    },
    {
     "name": "stderr",
     "output_type": "stream",
     "text": [
      "100%|██████████| 26/26 [00:05<00:00,  5.18it/s]\n"
     ]
    },
    {
     "name": "stdout",
     "output_type": "stream",
     "text": [
      "Train epoch 39, accuracy 97.356\n",
      "Test epoch 39, accuracy: 96.615\n"
     ]
    },
    {
     "name": "stderr",
     "output_type": "stream",
     "text": [
      "100%|██████████| 26/26 [00:05<00:00,  4.95it/s]\n"
     ]
    },
    {
     "name": "stdout",
     "output_type": "stream",
     "text": [
      "Train epoch 40, accuracy 97.296\n",
      "Test epoch 40, accuracy: 95.573\n"
     ]
    },
    {
     "name": "stderr",
     "output_type": "stream",
     "text": [
      "100%|██████████| 26/26 [00:04<00:00,  5.66it/s]\n"
     ]
    },
    {
     "name": "stdout",
     "output_type": "stream",
     "text": [
      "Train epoch 41, accuracy 98.167\n",
      "Test epoch 41, accuracy: 95.052\n"
     ]
    },
    {
     "name": "stderr",
     "output_type": "stream",
     "text": [
      "100%|██████████| 26/26 [00:04<00:00,  5.41it/s]\n"
     ]
    },
    {
     "name": "stdout",
     "output_type": "stream",
     "text": [
      "Train epoch 42, accuracy 97.957\n",
      "Test epoch 42, accuracy: 94.141\n"
     ]
    },
    {
     "name": "stderr",
     "output_type": "stream",
     "text": [
      "100%|██████████| 26/26 [00:05<00:00,  5.16it/s]\n"
     ]
    },
    {
     "name": "stdout",
     "output_type": "stream",
     "text": [
      "Train epoch 43, accuracy 98.588\n",
      "Test epoch 43, accuracy: 94.661\n"
     ]
    },
    {
     "name": "stderr",
     "output_type": "stream",
     "text": [
      "100%|██████████| 26/26 [00:05<00:00,  5.06it/s]\n"
     ]
    },
    {
     "name": "stdout",
     "output_type": "stream",
     "text": [
      "Train epoch 44, accuracy 98.107\n",
      "Test epoch 44, accuracy: 96.354\n"
     ]
    },
    {
     "name": "stderr",
     "output_type": "stream",
     "text": [
      "100%|██████████| 26/26 [00:04<00:00,  5.43it/s]\n"
     ]
    },
    {
     "name": "stdout",
     "output_type": "stream",
     "text": [
      "Train epoch 45, accuracy 98.528\n",
      "Test epoch 45, accuracy: 96.094\n"
     ]
    },
    {
     "name": "stderr",
     "output_type": "stream",
     "text": [
      "100%|██████████| 26/26 [00:05<00:00,  5.18it/s]\n"
     ]
    },
    {
     "name": "stdout",
     "output_type": "stream",
     "text": [
      "Train epoch 46, accuracy 98.377\n",
      "Test epoch 46, accuracy: 95.703\n"
     ]
    },
    {
     "name": "stderr",
     "output_type": "stream",
     "text": [
      "100%|██████████| 26/26 [00:04<00:00,  5.48it/s]\n"
     ]
    },
    {
     "name": "stdout",
     "output_type": "stream",
     "text": [
      "Train epoch 47, accuracy 98.197\n",
      "Test epoch 47, accuracy: 97.005\n"
     ]
    },
    {
     "name": "stderr",
     "output_type": "stream",
     "text": [
      "100%|██████████| 26/26 [00:04<00:00,  5.43it/s]\n"
     ]
    },
    {
     "name": "stdout",
     "output_type": "stream",
     "text": [
      "Train epoch 48, accuracy 98.768\n",
      "Test epoch 48, accuracy: 97.135\n"
     ]
    },
    {
     "name": "stderr",
     "output_type": "stream",
     "text": [
      "100%|██████████| 26/26 [00:04<00:00,  5.23it/s]\n"
     ]
    },
    {
     "name": "stdout",
     "output_type": "stream",
     "text": [
      "Train epoch 49, accuracy 98.828\n",
      "Test epoch 49, accuracy: 97.656\n"
     ]
    },
    {
     "name": "stderr",
     "output_type": "stream",
     "text": [
      "100%|██████████| 26/26 [00:04<00:00,  5.50it/s]\n"
     ]
    },
    {
     "name": "stdout",
     "output_type": "stream",
     "text": [
      "Train epoch 50, accuracy 98.888\n",
      "Test epoch 50, accuracy: 96.745\n"
     ]
    }
   ],
   "source": [
    "# Training\n",
    "# We call upon the train_epoch function for as many epochs that we want, updating the state each time.\n",
    "SEED = 0\n",
    "LEARNING_RATE = 0.1\n",
    "MOMENTUM = 0.9\n",
    "NUM_EPOCHS = 50\n",
    "\n",
    "train_state = train.create_train_state(jax.random.PRNGKey(SEED), LEARNING_RATE, MOMENTUM)\n",
    "train_acc = []\n",
    "test_acc = []\n",
    "for epoch in range(1, NUM_EPOCHS + 1):\n",
    "    train_state, batch_stats = train.train_epoch(train_state, train_dataloader)\n",
    "    print(f\"Train epoch {epoch}, accuracy {np.round(batch_stats['accuracy'] * 100, 3)}\")\n",
    "    train_acc.append(batch_stats['accuracy'])\n",
    "\n",
    "    test_accuracy = train.evaluate_model(train_state, test_dataloader)\n",
    "    print(f\"Test epoch {epoch}, accuracy: {np.round(test_accuracy * 100, 3)}\")\n",
    "    test_acc.append(test_accuracy)\n",
    "    "
   ]
  },
  {
   "cell_type": "code",
   "execution_count": 11,
   "metadata": {},
   "outputs": [
    {
     "data": {
      "image/png": "[encoded data removed]",
      "text/plain": [
       "<Figure size 640x480 with 1 Axes>"
      ]
     },
     "metadata": {},
     "output_type": "display_data"
    }
   ],
   "source": [
    "# Plotting Training History\n",
    "# Here we plot the training and validation accuracy with each epoch.\n",
    "# With 50 epochs we should see an accuracy of about 98% for both validation and training data.\n",
    "import matplotlib.pyplot as plt\n",
    "plt.plot(range(NUM_EPOCHS), train_acc, label='Training')\n",
    "plt.plot(range(NUM_EPOCHS), test_acc, label='Validation')\n",
    "plt.xlabel('Epochs')\n",
    "plt.ylabel('Accuracy')\n",
    "plt.yticks([0.0, 0.1, 0.2, 0.3, 0.4, 0.5, 0.6, 0.7, 0.8, 0.9, 1.0])\n",
    "plt.legend()\n",
    "plt.show()"
   ]
  },
  {
   "cell_type": "code",
   "execution_count": 12,
   "metadata": {},
   "outputs": [],
   "source": [
    "# Function that plots images with their predicted class\n",
    "def show_img_pred(train_state, img_batch, label_names, num_imgs = 1):\n",
    "    preds = train.CNN().apply({'params':train_state.params, 'batch_stats': train_state.batch_stats}, val_image_batch, training=False)\n",
    "    preds = jnp.argmax(preds, -1)\n",
    "    cols = 3\n",
    "    rows = math.ceil(num_imgs / cols)\n",
    "    fig = plt.figure(figsize=(10, 7))\n",
    "    for i in range(num_imgs):\n",
    "        fig.add_subplot(rows, cols, i+1)\n",
    "        plt.imshow(img_batch[i], interpolation='nearest')\n",
    "        plt.axis('off')\n",
    "        plt.title(label_names[preds[i]])"
   ]
  },
  {
   "cell_type": "code",
   "execution_count": 13,
   "metadata": {},
   "outputs": [],
   "source": [
    "# Import the names of the classes so that we can plot images with names rather than numbers\n",
    "label_names = pd.read_csv('traffic_Data/labels.csv')\n",
    "label_names = np.array(label_names['Name'])"
   ]
  },
  {
   "cell_type": "code",
   "execution_count": 14,
   "metadata": {},
   "outputs": [
    {
     "data": {
      "image/png": "[encoded data removed]",
      "text/plain": [
       "<Figure size 1000x700 with 9 Axes>"
      ]
     },
     "metadata": {},
     "output_type": "display_data"
    }
   ],
   "source": [
    "# Plotted images and their predictions.\n",
    "# With a ~98% validation accuracy, almost all of the images should be correct.\n",
    "show_img_pred(train_state, val_image_batch, label_names, num_imgs=9)"
   ]
  },
  {
   "cell_type": "code",
   "execution_count": null,
   "metadata": {},
   "outputs": [],
   "source": []
  }
 ],
 "metadata": {
  "kernelspec": {
   "display_name": "jax",
   "language": "python",
   "name": "python3"
  },
  "language_info": {
   "codemirror_mode": {
    "name": "ipython",
    "version": 3
   },
   "file_extension": ".py",
   "mimetype": "text/x-python",
   "name": "python",
   "nbconvert_exporter": "python",
   "pygments_lexer": "ipython3",
   "version": "3.9.16"
  },
  "orig_nbformat": 4
 },
 "nbformat": 4,
 "nbformat_minor": 2
}
